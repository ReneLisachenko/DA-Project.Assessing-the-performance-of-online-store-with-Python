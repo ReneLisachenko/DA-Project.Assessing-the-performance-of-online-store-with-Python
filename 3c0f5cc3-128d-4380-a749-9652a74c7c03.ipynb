{
 "cells": [
  {
   "cell_type": "markdown",
   "metadata": {},
   "source": [
    "# Integrated Project\n"
   ]
  },
  {
   "cell_type": "markdown",
   "metadata": {},
   "source": [
    "## Project description\n",
    "    \n",
    "    We work for the online store Ice, which sells video games all over the world. User and expert reviews, genres, platforms (e.g. Xbox or PlayStation), and historical data on game sales are available from open sources. You need to identify patterns that determine whether a game succeeds or not. This will allow you to spot potential big winners and plan advertising campaigns.\n",
    "    \n",
    "    In front of you is data going back to 2016. Let’s imagine that it’s December 2016 and you’re planning a campaign for 2017.\n",
    "    \n",
    "    (The important thing is to get experience working with data. It doesn't really matter whether you're forecasting 2017 sales based on data from 2016 or 2027 sales based on data from 2026.)\n",
    "    \n",
    "    The dataset contains the abbreviation ESRB. The Entertainment Software Rating Board evaluates a game's content and assigns an age rating such as Teen or Mature.\n",
    "\n",
    "    File path:  /datasets/games.csv\n",
    "\n",
    "### Project plan\n",
    "1. [Prepare the Data](#introduction)\n",
    "2. [Analyze Data](#introduction1)\n",
    "3. [Statistical Tests](#introduction2)\n",
    "4. [General conclusion](#introduction3)\n"
   ]
  },
  {
   "cell_type": "code",
   "execution_count": 2,
   "metadata": {},
   "outputs": [],
   "source": [
    "import pandas as pd\n",
    "import numpy as np\n",
    "import matplotlib.pyplot as plt\n",
    "from scipy import stats\n",
    "import seaborn as sns\n",
    "%matplotlib inline\n",
    "\n"
   ]
  },
  {
   "cell_type": "code",
   "execution_count": 3,
   "metadata": {},
   "outputs": [
    {
     "data": {
      "text/html": [
       "<div>\n",
       "<style scoped>\n",
       "    .dataframe tbody tr th:only-of-type {\n",
       "        vertical-align: middle;\n",
       "    }\n",
       "\n",
       "    .dataframe tbody tr th {\n",
       "        vertical-align: top;\n",
       "    }\n",
       "\n",
       "    .dataframe thead th {\n",
       "        text-align: right;\n",
       "    }\n",
       "</style>\n",
       "<table border=\"1\" class=\"dataframe\">\n",
       "  <thead>\n",
       "    <tr style=\"text-align: right;\">\n",
       "      <th></th>\n",
       "      <th>Name</th>\n",
       "      <th>Platform</th>\n",
       "      <th>Year_of_Release</th>\n",
       "      <th>Genre</th>\n",
       "      <th>NA_sales</th>\n",
       "      <th>EU_sales</th>\n",
       "      <th>JP_sales</th>\n",
       "      <th>Other_sales</th>\n",
       "      <th>Critic_Score</th>\n",
       "      <th>User_Score</th>\n",
       "      <th>Rating</th>\n",
       "    </tr>\n",
       "  </thead>\n",
       "  <tbody>\n",
       "    <tr>\n",
       "      <td>0</td>\n",
       "      <td>Wii Sports</td>\n",
       "      <td>Wii</td>\n",
       "      <td>2006.0</td>\n",
       "      <td>Sports</td>\n",
       "      <td>41.36</td>\n",
       "      <td>28.96</td>\n",
       "      <td>3.77</td>\n",
       "      <td>8.45</td>\n",
       "      <td>76.0</td>\n",
       "      <td>8</td>\n",
       "      <td>E</td>\n",
       "    </tr>\n",
       "    <tr>\n",
       "      <td>1</td>\n",
       "      <td>Super Mario Bros.</td>\n",
       "      <td>NES</td>\n",
       "      <td>1985.0</td>\n",
       "      <td>Platform</td>\n",
       "      <td>29.08</td>\n",
       "      <td>3.58</td>\n",
       "      <td>6.81</td>\n",
       "      <td>0.77</td>\n",
       "      <td>NaN</td>\n",
       "      <td>NaN</td>\n",
       "      <td>NaN</td>\n",
       "    </tr>\n",
       "    <tr>\n",
       "      <td>2</td>\n",
       "      <td>Mario Kart Wii</td>\n",
       "      <td>Wii</td>\n",
       "      <td>2008.0</td>\n",
       "      <td>Racing</td>\n",
       "      <td>15.68</td>\n",
       "      <td>12.76</td>\n",
       "      <td>3.79</td>\n",
       "      <td>3.29</td>\n",
       "      <td>82.0</td>\n",
       "      <td>8.3</td>\n",
       "      <td>E</td>\n",
       "    </tr>\n",
       "    <tr>\n",
       "      <td>3</td>\n",
       "      <td>Wii Sports Resort</td>\n",
       "      <td>Wii</td>\n",
       "      <td>2009.0</td>\n",
       "      <td>Sports</td>\n",
       "      <td>15.61</td>\n",
       "      <td>10.93</td>\n",
       "      <td>3.28</td>\n",
       "      <td>2.95</td>\n",
       "      <td>80.0</td>\n",
       "      <td>8</td>\n",
       "      <td>E</td>\n",
       "    </tr>\n",
       "    <tr>\n",
       "      <td>4</td>\n",
       "      <td>Pokemon Red/Pokemon Blue</td>\n",
       "      <td>GB</td>\n",
       "      <td>1996.0</td>\n",
       "      <td>Role-Playing</td>\n",
       "      <td>11.27</td>\n",
       "      <td>8.89</td>\n",
       "      <td>10.22</td>\n",
       "      <td>1.00</td>\n",
       "      <td>NaN</td>\n",
       "      <td>NaN</td>\n",
       "      <td>NaN</td>\n",
       "    </tr>\n",
       "  </tbody>\n",
       "</table>\n",
       "</div>"
      ],
      "text/plain": [
       "                       Name Platform  Year_of_Release         Genre  NA_sales  \\\n",
       "0                Wii Sports      Wii           2006.0        Sports     41.36   \n",
       "1         Super Mario Bros.      NES           1985.0      Platform     29.08   \n",
       "2            Mario Kart Wii      Wii           2008.0        Racing     15.68   \n",
       "3         Wii Sports Resort      Wii           2009.0        Sports     15.61   \n",
       "4  Pokemon Red/Pokemon Blue       GB           1996.0  Role-Playing     11.27   \n",
       "\n",
       "   EU_sales  JP_sales  Other_sales  Critic_Score User_Score Rating  \n",
       "0     28.96      3.77         8.45          76.0          8      E  \n",
       "1      3.58      6.81         0.77           NaN        NaN    NaN  \n",
       "2     12.76      3.79         3.29          82.0        8.3      E  \n",
       "3     10.93      3.28         2.95          80.0          8      E  \n",
       "4      8.89     10.22         1.00           NaN        NaN    NaN  "
      ]
     },
     "execution_count": 3,
     "metadata": {},
     "output_type": "execute_result"
    }
   ],
   "source": [
    "df = pd.read_csv('/datasets/games.csv')\n",
    "df.head()"
   ]
  },
  {
   "cell_type": "code",
   "execution_count": 4,
   "metadata": {},
   "outputs": [
    {
     "name": "stdout",
     "output_type": "stream",
     "text": [
      "<class 'pandas.core.frame.DataFrame'>\n",
      "RangeIndex: 16715 entries, 0 to 16714\n",
      "Data columns (total 11 columns):\n",
      "Name               16713 non-null object\n",
      "Platform           16715 non-null object\n",
      "Year_of_Release    16446 non-null float64\n",
      "Genre              16713 non-null object\n",
      "NA_sales           16715 non-null float64\n",
      "EU_sales           16715 non-null float64\n",
      "JP_sales           16715 non-null float64\n",
      "Other_sales        16715 non-null float64\n",
      "Critic_Score       8137 non-null float64\n",
      "User_Score         10014 non-null object\n",
      "Rating             9949 non-null object\n",
      "dtypes: float64(6), object(5)\n",
      "memory usage: 1.4+ MB\n",
      "None\n"
     ]
    }
   ],
   "source": [
    "print (df.info())\n"
   ]
  },
  {
   "cell_type": "markdown",
   "metadata": {},
   "source": [
    "We see that column 'Year_of_Release' with float64, so we change it for int. And we need to check 'Name', 'Year_of_Release', 'Critic_Score', 'User_Score', 'Rating' for a null objects.               "
   ]
  },
  {
   "cell_type": "markdown",
   "metadata": {},
   "source": [
    "## Prepare the Data <a name=\"introduction\"></a>"
   ]
  },
  {
   "cell_type": "code",
   "execution_count": 5,
   "metadata": {},
   "outputs": [],
   "source": [
    "df.columns = df.columns.str.lower()"
   ]
  },
  {
   "cell_type": "code",
   "execution_count": 6,
   "metadata": {},
   "outputs": [
    {
     "data": {
      "text/plain": [
       "name               0.000120\n",
       "platform           0.000000\n",
       "year_of_release    0.016093\n",
       "genre              0.000120\n",
       "na_sales           0.000000\n",
       "eu_sales           0.000000\n",
       "jp_sales           0.000000\n",
       "other_sales        0.000000\n",
       "critic_score       0.513192\n",
       "user_score         0.400897\n",
       "rating             0.404786\n",
       "dtype: float64"
      ]
     },
     "execution_count": 6,
     "metadata": {},
     "output_type": "execute_result"
    }
   ],
   "source": [
    "df.isnull().sum()/df.shape[0]"
   ]
  },
  {
   "cell_type": "markdown",
   "metadata": {},
   "source": [
    "There are a few null values in \"name\" and \"year_of_release\" columns, so its simply to drop them."
   ]
  },
  {
   "cell_type": "code",
   "execution_count": 7,
   "metadata": {},
   "outputs": [],
   "source": [
    "df.dropna(subset=[\"year_of_release\", 'name'], inplace=True)\n",
    "df[\"year_of_release\"] = df[\"year_of_release\"].astype(int)"
   ]
  },
  {
   "cell_type": "code",
   "execution_count": 8,
   "metadata": {},
   "outputs": [
    {
     "data": {
      "text/plain": [
       "tbd    2376\n",
       "7.8     322\n",
       "8       285\n",
       "8.2     276\n",
       "8.3     252\n",
       "       ... \n",
       "1.1       2\n",
       "0.9       2\n",
       "1.3       2\n",
       "0         1\n",
       "9.7       1\n",
       "Name: user_score, Length: 96, dtype: int64"
      ]
     },
     "execution_count": 8,
     "metadata": {},
     "output_type": "execute_result"
    }
   ],
   "source": [
    "df.user_score.value_counts()"
   ]
  },
  {
   "cell_type": "code",
   "execution_count": 9,
   "metadata": {},
   "outputs": [],
   "source": [
    "df['user_score'] = pd.to_numeric(df['user_score'].replace('tbd', np.nan ))"
   ]
  },
  {
   "cell_type": "markdown",
   "metadata": {},
   "source": [
    "There are a lot of 'tbd' values in \"user_score\" column, that mean - to be determined. I replaced all 'tbd in this column with 'null values and change this column to numeric."
   ]
  },
  {
   "cell_type": "code",
   "execution_count": 10,
   "metadata": {},
   "outputs": [
    {
     "data": {
      "text/plain": [
       "70.0    252\n",
       "71.0    248\n",
       "75.0    240\n",
       "80.0    235\n",
       "73.0    234\n",
       "       ... \n",
       "29.0      3\n",
       "20.0      3\n",
       "21.0      1\n",
       "13.0      1\n",
       "17.0      1\n",
       "Name: critic_score, Length: 81, dtype: int64"
      ]
     },
     "execution_count": 10,
     "metadata": {},
     "output_type": "execute_result"
    }
   ],
   "source": [
    "df.critic_score.value_counts()"
   ]
  },
  {
   "cell_type": "code",
   "execution_count": 11,
   "metadata": {},
   "outputs": [],
   "source": [
    "df['user_score'] = pd.to_numeric(df['user_score'])\n"
   ]
  },
  {
   "cell_type": "markdown",
   "metadata": {},
   "source": [
    "I changed this column to numeric."
   ]
  },
  {
   "cell_type": "code",
   "execution_count": 12,
   "metadata": {},
   "outputs": [],
   "source": [
    "df.rating.value_counts()\n",
    "df['rating'] = df['rating'].fillna('undefined')"
   ]
  },
  {
   "cell_type": "markdown",
   "metadata": {},
   "source": [
    "I left all null values of 'rating' column and named they by 'undefined'. There are not disturb for work with data."
   ]
  },
  {
   "cell_type": "code",
   "execution_count": 13,
   "metadata": {},
   "outputs": [],
   "source": [
    "df['total_sales']=df['na_sales']+df['eu_sales']+df['jp_sales']+df['other_sales']\n"
   ]
  },
  {
   "cell_type": "markdown",
   "metadata": {},
   "source": [
    "First we prepared data:\n",
    "\n",
    "    - replaced the column names (make them lowercase).\n",
    "    - filled null values;\n",
    "    - replaced the real data type with an integer;\n",
    "    - categorixed data."
   ]
  },
  {
   "cell_type": "markdown",
   "metadata": {},
   "source": [
    "## Analyze Data <a name=\"introduction1\"></a>"
   ]
  },
  {
   "cell_type": "markdown",
   "metadata": {},
   "source": [
    "First, I will plot number of games released each year to get a sense of how far back we should be looking. There are relatively few games released prior to 2000, with a peak around 2008."
   ]
  },
  {
   "cell_type": "code",
   "execution_count": 14,
   "metadata": {},
   "outputs": [
    {
     "data": {
      "image/png": "[encoded data removed]",
      "text/plain": [
       "<Figure size 432x288 with 1 Axes>"
      ]
     },
     "metadata": {
      "needs_background": "light"
     },
     "output_type": "display_data"
    }
   ],
   "source": [
    "df.groupby('year_of_release').name.count().plot()\n",
    "plt.show()"
   ]
  },
  {
   "cell_type": "code",
   "execution_count": 15,
   "metadata": {},
   "outputs": [
    {
     "name": "stdout",
     "output_type": "stream",
     "text": [
      "platform          2600  3DO  3DS  DC  DS  GB  GBA  GC  GEN  GG  ...  SAT  SCD  \\\n",
      "year_of_release                                                 ...             \n",
      "1980             11.38  NaN  NaN NaN NaN NaN  NaN NaN  NaN NaN  ...  NaN  NaN   \n",
      "1981             35.68  NaN  NaN NaN NaN NaN  NaN NaN  NaN NaN  ...  NaN  NaN   \n",
      "1982             28.88  NaN  NaN NaN NaN NaN  NaN NaN  NaN NaN  ...  NaN  NaN   \n",
      "1983              5.84  NaN  NaN NaN NaN NaN  NaN NaN  NaN NaN  ...  NaN  NaN   \n",
      "1984              0.27  NaN  NaN NaN NaN NaN  NaN NaN  NaN NaN  ...  NaN  NaN   \n",
      "\n",
      "platform         SNES  TG16  WS  Wii  WiiU  X360  XB  XOne  \n",
      "year_of_release                                             \n",
      "1980              NaN   NaN NaN  NaN   NaN   NaN NaN   NaN  \n",
      "1981              NaN   NaN NaN  NaN   NaN   NaN NaN   NaN  \n",
      "1982              NaN   NaN NaN  NaN   NaN   NaN NaN   NaN  \n",
      "1983              NaN   NaN NaN  NaN   NaN   NaN NaN   NaN  \n",
      "1984              NaN   NaN NaN  NaN   NaN   NaN NaN   NaN  \n",
      "\n",
      "[5 rows x 31 columns]\n"
     ]
    }
   ],
   "source": [
    "platform_df = df.groupby(['year_of_release','platform']).total_sales.sum().unstack(1)\n",
    "print(platform_df.head())"
   ]
  },
  {
   "cell_type": "code",
   "execution_count": 16,
   "metadata": {},
   "outputs": [
    {
     "data": {
      "image/png": "[encoded data removed]",
      "text/plain": [
       "<Figure size 432x288 with 1 Axes>"
      ]
     },
     "metadata": {
      "needs_background": "light"
     },
     "output_type": "display_data"
    }
   ],
   "source": [
    "platform_df.plot()\n",
    "plt.yscale('log')\n",
    "\n",
    "plt.show()"
   ]
  },
  {
   "cell_type": "markdown",
   "metadata": {},
   "source": [
    "Thare are too many platforms to plot at once, let's instead look at the top 10:"
   ]
  },
  {
   "cell_type": "code",
   "execution_count": 17,
   "metadata": {},
   "outputs": [],
   "source": [
    "top_platforms = platform_df.sum().sort_values().index[-10:]"
   ]
  },
  {
   "cell_type": "code",
   "execution_count": 18,
   "metadata": {},
   "outputs": [
    {
     "data": {
      "text/plain": [
       "Index(['3DS', 'PSP', 'GBA', 'PS4', 'PS', 'DS', 'Wii', 'PS3', 'X360', 'PS2'], dtype='object', name='platform')"
      ]
     },
     "execution_count": 18,
     "metadata": {},
     "output_type": "execute_result"
    }
   ],
   "source": [
    "top_platforms"
   ]
  },
  {
   "cell_type": "code",
   "execution_count": 19,
   "metadata": {},
   "outputs": [
    {
     "data": {
      "image/png": "[encoded data removed]",
      "text/plain": [
       "<Figure size 432x288 with 1 Axes>"
      ]
     },
     "metadata": {
      "needs_background": "light"
     },
     "output_type": "display_data"
    }
   ],
   "source": [
    "platform_df[top_platforms].plot()\n",
    "plt.show()"
   ]
  },
  {
   "cell_type": "markdown",
   "metadata": {},
   "source": [
    "It show us, how long are platforms active for:"
   ]
  },
  {
   "cell_type": "code",
   "execution_count": 20,
   "metadata": {},
   "outputs": [
    {
     "data": {
      "text/plain": [
       "platform\n",
       "3DS      6\n",
       "PSP     12\n",
       "GBA      8\n",
       "PS4      4\n",
       "PS      10\n",
       "DS      11\n",
       "Wii     11\n",
       "PS3     11\n",
       "X360    12\n",
       "PS2     12\n",
       "dtype: int64"
      ]
     },
     "execution_count": 20,
     "metadata": {},
     "output_type": "execute_result"
    }
   ],
   "source": [
    "(platform_df[top_platforms].notnull().sum())"
   ]
  },
  {
   "cell_type": "markdown",
   "metadata": {},
   "source": [
    "It seems are active fo around 11-12 years, but for future prediction we will used platforms that was actualy last 3 years.  For example, you'll get X360, which was an absolute blast in 2010, but \"now\" in 2016 it doesn't matter at all, because there is a never version of this console (Xbox One) and the games for 360 almost non-existent. We will exlude data before 2016 - 3 = 2013"
   ]
  },
  {
   "cell_type": "code",
   "execution_count": 21,
   "metadata": {},
   "outputs": [],
   "source": [
    "df = df[df.year_of_release>=2010]"
   ]
  },
  {
   "cell_type": "markdown",
   "metadata": {},
   "source": [
    "What are the top platforms? Are they growing/shrinking in sale?"
   ]
  },
  {
   "cell_type": "code",
   "execution_count": 22,
   "metadata": {},
   "outputs": [
    {
     "name": "stdout",
     "output_type": "stream",
     "text": [
      "platform           3DS     DS     PC   PS2     PS3     PS4    PSP    PSV  \\\n",
      "year_of_release                                                            \n",
      "2010               NaN  85.02  24.28  5.64  142.17     NaN  35.04    NaN   \n",
      "2011             63.20  26.18  35.03  0.45  156.78     NaN  17.82   4.63   \n",
      "2012             51.36  11.01  23.22   NaN  107.36     NaN   7.69  16.19   \n",
      "2013             56.57   1.54  12.38   NaN  113.25   25.99   3.14  10.59   \n",
      "2014             43.76    NaN  13.28   NaN   47.76  100.00   0.24  11.90   \n",
      "2015             27.78    NaN   8.52   NaN   16.82  118.90   0.12   6.25   \n",
      "2016             15.14    NaN   5.25   NaN    3.60   69.25    NaN   4.25   \n",
      "\n",
      "platform            Wii   WiiU    X360   XOne  \n",
      "year_of_release                                \n",
      "2010             127.95    NaN  170.03    NaN  \n",
      "2011              59.65    NaN  143.84    NaN  \n",
      "2012              21.71  17.56   99.74    NaN  \n",
      "2013               8.59  21.65   88.58  18.96  \n",
      "2014               3.75  22.03   34.74  54.07  \n",
      "2015               1.14  16.35   11.96  60.14  \n",
      "2016               0.18   4.60    1.52  26.15  \n"
     ]
    }
   ],
   "source": [
    "platform_df = df.groupby(['year_of_release','platform']).total_sales.sum().unstack(1)\n",
    "print (platform_df)"
   ]
  },
  {
   "cell_type": "markdown",
   "metadata": {},
   "source": [
    "This table show us that:\n",
    "\n",
    "    - Platforms ( 3DS, PC, PS3, PSV, Wii, WiiU, XBOX360) are shrinking in sales for the past few years.\n",
    "    - PS4 and XOne are shrinking in sales last year.\n",
    "    - PS4 is the top sales platform in 2016.\n",
    "    - Platforms ( 3DS, PC, PS3, PS4, PSV, Wii, WiiU, XBOX360, XOne) will be sale in 2017."
   ]
  },
  {
   "cell_type": "code",
   "execution_count": 23,
   "metadata": {},
   "outputs": [
    {
     "data": {
      "text/plain": [
       "21.82"
      ]
     },
     "execution_count": 23,
     "metadata": {},
     "output_type": "execute_result"
    },
    {
     "data": {
      "image/png": "[encoded data removed]",
      "text/plain": [
       "<Figure size 432x288 with 1 Axes>"
      ]
     },
     "metadata": {
      "needs_background": "light"
     },
     "output_type": "display_data"
    }
   ],
   "source": [
    "sns.boxplot(data=df, x='platform', y='total_sales')\n",
    "plt.yscale('log')\n",
    "\n",
    "df.total_sales.max()"
   ]
  },
  {
   "cell_type": "code",
   "execution_count": 24,
   "metadata": {},
   "outputs": [
    {
     "name": "stdout",
     "output_type": "stream",
     "text": [
      "                     year_of_release                                         \\\n",
      "                               count         mean       std     min     25%   \n",
      "platform total_sales                                                          \n",
      "3DS      0.01                   29.0  2013.793103  1.611993  2011.0  2013.0   \n",
      "         0.02                   25.0  2013.280000  1.620699  2011.0  2012.0   \n",
      "         0.03                   41.0  2014.000000  1.466288  2011.0  2013.0   \n",
      "         0.04                   25.0  2013.680000  1.930458  2011.0  2012.0   \n",
      "         0.05                   12.0  2013.250000  1.484771  2011.0  2012.0   \n",
      "...                              ...          ...       ...     ...     ...   \n",
      "XOne     4.22                    1.0  2015.000000       NaN  2015.0  2015.0   \n",
      "         4.49                    1.0  2015.000000       NaN  2015.0  2015.0   \n",
      "         5.26                    1.0  2014.000000       NaN  2014.0  2014.0   \n",
      "         5.47                    1.0  2014.000000       NaN  2014.0  2014.0   \n",
      "         7.39                    1.0  2015.000000       NaN  2015.0  2015.0   \n",
      "\n",
      "                                              na_sales            ...  \\\n",
      "                         50%      75%     max    count      mean  ...   \n",
      "platform total_sales                                              ...   \n",
      "3DS      0.01         2014.0  2015.00  2016.0     29.0  0.002414  ...   \n",
      "         0.02         2013.0  2015.00  2016.0     25.0  0.004000  ...   \n",
      "         0.03         2014.0  2015.00  2016.0     41.0  0.006341  ...   \n",
      "         0.04         2014.0  2015.00  2016.0     25.0  0.006000  ...   \n",
      "         0.05         2013.0  2014.25  2016.0     12.0  0.000000  ...   \n",
      "...                      ...      ...     ...      ...       ...  ...   \n",
      "XOne     4.22         2015.0  2015.00  2015.0      1.0  2.510000  ...   \n",
      "         4.49         2015.0  2015.00  2015.0      1.0  2.780000  ...   \n",
      "         5.26         2014.0  2014.00  2014.0      1.0  3.220000  ...   \n",
      "         5.47         2014.0  2014.00  2014.0      1.0  2.810000  ...   \n",
      "         7.39         2015.0  2015.00  2015.0      1.0  4.590000  ...   \n",
      "\n",
      "                     critic_score       user_score                           \\\n",
      "                              75%   max      count      mean       std  min   \n",
      "platform total_sales                                                          \n",
      "3DS      0.01               77.00  77.0        2.0  6.800000  2.262742  5.2   \n",
      "         0.02               62.00  81.0        5.0  6.540000  2.505594  2.4   \n",
      "         0.03               74.00  88.0        7.0  7.157143  1.335237  5.6   \n",
      "         0.04               69.25  82.0        5.0  7.200000  1.456022  5.1   \n",
      "         0.05                 NaN   NaN        0.0       NaN       NaN  NaN   \n",
      "...                           ...   ...        ...       ...       ...  ...   \n",
      "XOne     4.22               88.00  88.0        1.0  6.200000       NaN  6.2   \n",
      "         4.49               84.00  84.0        1.0  6.400000       NaN  6.4   \n",
      "         5.26               81.00  81.0        1.0  5.400000       NaN  5.4   \n",
      "         5.47               97.00  97.0        1.0  7.900000       NaN  7.9   \n",
      "         7.39                 NaN   NaN        0.0       NaN       NaN  NaN   \n",
      "\n",
      "                                            \n",
      "                       25%  50%   75%  max  \n",
      "platform total_sales                        \n",
      "3DS      0.01         6.00  6.8  7.60  8.4  \n",
      "         0.02         6.30  7.4  7.60  9.0  \n",
      "         0.03         6.05  7.1  8.25  8.8  \n",
      "         0.04         6.30  7.8  8.30  8.5  \n",
      "         0.05          NaN  NaN   NaN  NaN  \n",
      "...                    ...  ...   ...  ...  \n",
      "XOne     4.22         6.20  6.2  6.20  6.2  \n",
      "         4.49         6.40  6.4  6.40  6.4  \n",
      "         5.26         5.40  5.4  5.40  5.4  \n",
      "         5.47         7.90  7.9  7.90  7.9  \n",
      "         7.39          NaN  NaN   NaN  NaN  \n",
      "\n",
      "[1621 rows x 56 columns]\n"
     ]
    },
    {
     "data": {
      "image/png": "[encoded data removed]",
      "text/plain": [
       "<Figure size 432x288 with 1 Axes>"
      ]
     },
     "metadata": {
      "needs_background": "light"
     },
     "output_type": "display_data"
    }
   ],
   "source": [
    "sns.boxplot(data=df, x='platform', y='total_sales')\n",
    "plt.yscale('log')\n",
    "print(df.groupby(['platform','total_sales']).describe())\n"
   ]
  },
  {
   "cell_type": "markdown",
   "metadata": {},
   "source": [
    "This graphs show us:\n",
    "    - The best saled game was for X360 - 21.8 milion.\n",
    "    - The least sales for the PS2.\n",
    "    - X360, PS3, PS4, XOne and WiiU have equal medium sales."
   ]
  },
  {
   "cell_type": "code",
   "execution_count": 25,
   "metadata": {},
   "outputs": [
    {
     "data": {
      "image/png": "[encoded data removed]",
      "text/plain": [
       "<Figure size 432x288 with 1 Axes>"
      ]
     },
     "metadata": {
      "needs_background": "light"
     },
     "output_type": "display_data"
    }
   ],
   "source": [
    "sns.barplot(data=df, x ='platform', y='total_sales' )\n",
    "plt.xticks(rotation=45)\n",
    "plt.yscale('log')"
   ]
  },
  {
   "cell_type": "code",
   "execution_count": 26,
   "metadata": {},
   "outputs": [
    {
     "data": {
      "text/plain": [
       "(array([ 0,  1,  2,  3,  4,  5,  6,  7,  8,  9, 10, 11]),\n",
       " <a list of 12 Text xticklabel objects>)"
      ]
     },
     "execution_count": 26,
     "metadata": {},
     "output_type": "execute_result"
    },
    {
     "data": {
      "image/png": "[encoded data removed]",
      "text/plain": [
       "<Figure size 432x288 with 1 Axes>"
      ]
     },
     "metadata": {
      "needs_background": "light"
     },
     "output_type": "display_data"
    }
   ],
   "source": [
    "df.groupby(['platform']).total_sales.mean().plot(kind='bar')\n",
    "plt.xticks(rotation=45)"
   ]
  },
  {
   "cell_type": "markdown",
   "metadata": {},
   "source": [
    "- Most sales platforms are of Wii, X360, PS3, XOne and PS4 "
   ]
  },
  {
   "cell_type": "markdown",
   "metadata": {},
   "source": [
    "##### Using PS4, we are going to look at the correlation between sales and reviews."
   ]
  },
  {
   "cell_type": "code",
   "execution_count": 27,
   "metadata": {},
   "outputs": [
    {
     "data": {
      "text/plain": [
       "Text(0, 0.5, 'total_sales')"
      ]
     },
     "execution_count": 27,
     "metadata": {},
     "output_type": "execute_result"
    },
    {
     "data": {
      "image/png": "[encoded data removed]",
      "text/plain": [
       "<Figure size 432x288 with 1 Axes>"
      ]
     },
     "metadata": {
      "needs_background": "light"
     },
     "output_type": "display_data"
    }
   ],
   "source": [
    "plt.scatter(df[df.platform=='PS4']['user_score'], df[df.platform=='PS4']['total_sales'])\n",
    "plt.xlabel('user_score')\n",
    "plt.ylabel('total_sales')\n"
   ]
  },
  {
   "cell_type": "code",
   "execution_count": 28,
   "metadata": {},
   "outputs": [
    {
     "data": {
      "text/plain": [
       "Text(0, 0.5, 'total_sales')"
      ]
     },
     "execution_count": 28,
     "metadata": {},
     "output_type": "execute_result"
    },
    {
     "data": {
      "image/png": "[encoded data removed]",
      "text/plain": [
       "<Figure size 432x288 with 1 Axes>"
      ]
     },
     "metadata": {
      "needs_background": "light"
     },
     "output_type": "display_data"
    }
   ],
   "source": [
    "plt.scatter(df[df.platform=='PS4']['critic_score'], df[df.platform=='PS4']['total_sales'])\n",
    "plt.xlabel('critic_score')\n",
    "plt.ylabel('total_sales')"
   ]
  },
  {
   "cell_type": "code",
   "execution_count": 29,
   "metadata": {},
   "outputs": [
    {
     "data": {
      "text/html": [
       "<div>\n",
       "<style scoped>\n",
       "    .dataframe tbody tr th:only-of-type {\n",
       "        vertical-align: middle;\n",
       "    }\n",
       "\n",
       "    .dataframe tbody tr th {\n",
       "        vertical-align: top;\n",
       "    }\n",
       "\n",
       "    .dataframe thead th {\n",
       "        text-align: right;\n",
       "    }\n",
       "</style>\n",
       "<table border=\"1\" class=\"dataframe\">\n",
       "  <thead>\n",
       "    <tr style=\"text-align: right;\">\n",
       "      <th></th>\n",
       "      <th>year_of_release</th>\n",
       "      <th>na_sales</th>\n",
       "      <th>eu_sales</th>\n",
       "      <th>jp_sales</th>\n",
       "      <th>other_sales</th>\n",
       "      <th>critic_score</th>\n",
       "      <th>user_score</th>\n",
       "      <th>total_sales</th>\n",
       "    </tr>\n",
       "  </thead>\n",
       "  <tbody>\n",
       "    <tr>\n",
       "      <td>year_of_release</td>\n",
       "      <td>1.000000</td>\n",
       "      <td>-0.248961</td>\n",
       "      <td>-0.208306</td>\n",
       "      <td>-0.060993</td>\n",
       "      <td>-0.234796</td>\n",
       "      <td>-0.021142</td>\n",
       "      <td>0.152447</td>\n",
       "      <td>-0.235032</td>\n",
       "    </tr>\n",
       "    <tr>\n",
       "      <td>na_sales</td>\n",
       "      <td>-0.248961</td>\n",
       "      <td>1.000000</td>\n",
       "      <td>0.785362</td>\n",
       "      <td>0.472981</td>\n",
       "      <td>0.944259</td>\n",
       "      <td>0.415008</td>\n",
       "      <td>-0.020933</td>\n",
       "      <td>0.928160</td>\n",
       "    </tr>\n",
       "    <tr>\n",
       "      <td>eu_sales</td>\n",
       "      <td>-0.208306</td>\n",
       "      <td>0.785362</td>\n",
       "      <td>1.000000</td>\n",
       "      <td>0.464563</td>\n",
       "      <td>0.944698</td>\n",
       "      <td>0.346720</td>\n",
       "      <td>-0.048925</td>\n",
       "      <td>0.958157</td>\n",
       "    </tr>\n",
       "    <tr>\n",
       "      <td>jp_sales</td>\n",
       "      <td>-0.060993</td>\n",
       "      <td>0.472981</td>\n",
       "      <td>0.464563</td>\n",
       "      <td>1.000000</td>\n",
       "      <td>0.496467</td>\n",
       "      <td>0.322358</td>\n",
       "      <td>0.171332</td>\n",
       "      <td>0.527129</td>\n",
       "    </tr>\n",
       "    <tr>\n",
       "      <td>other_sales</td>\n",
       "      <td>-0.234796</td>\n",
       "      <td>0.944259</td>\n",
       "      <td>0.944698</td>\n",
       "      <td>0.496467</td>\n",
       "      <td>1.000000</td>\n",
       "      <td>0.409191</td>\n",
       "      <td>-0.035639</td>\n",
       "      <td>0.998051</td>\n",
       "    </tr>\n",
       "    <tr>\n",
       "      <td>critic_score</td>\n",
       "      <td>-0.021142</td>\n",
       "      <td>0.415008</td>\n",
       "      <td>0.346720</td>\n",
       "      <td>0.322358</td>\n",
       "      <td>0.409191</td>\n",
       "      <td>1.000000</td>\n",
       "      <td>0.557654</td>\n",
       "      <td>0.406568</td>\n",
       "    </tr>\n",
       "    <tr>\n",
       "      <td>user_score</td>\n",
       "      <td>0.152447</td>\n",
       "      <td>-0.020933</td>\n",
       "      <td>-0.048925</td>\n",
       "      <td>0.171332</td>\n",
       "      <td>-0.035639</td>\n",
       "      <td>0.557654</td>\n",
       "      <td>1.000000</td>\n",
       "      <td>-0.031957</td>\n",
       "    </tr>\n",
       "    <tr>\n",
       "      <td>total_sales</td>\n",
       "      <td>-0.235032</td>\n",
       "      <td>0.928160</td>\n",
       "      <td>0.958157</td>\n",
       "      <td>0.527129</td>\n",
       "      <td>0.998051</td>\n",
       "      <td>0.406568</td>\n",
       "      <td>-0.031957</td>\n",
       "      <td>1.000000</td>\n",
       "    </tr>\n",
       "  </tbody>\n",
       "</table>\n",
       "</div>"
      ],
      "text/plain": [
       "                 year_of_release  na_sales  eu_sales  jp_sales  other_sales  \\\n",
       "year_of_release         1.000000 -0.248961 -0.208306 -0.060993    -0.234796   \n",
       "na_sales               -0.248961  1.000000  0.785362  0.472981     0.944259   \n",
       "eu_sales               -0.208306  0.785362  1.000000  0.464563     0.944698   \n",
       "jp_sales               -0.060993  0.472981  0.464563  1.000000     0.496467   \n",
       "other_sales            -0.234796  0.944259  0.944698  0.496467     1.000000   \n",
       "critic_score           -0.021142  0.415008  0.346720  0.322358     0.409191   \n",
       "user_score              0.152447 -0.020933 -0.048925  0.171332    -0.035639   \n",
       "total_sales            -0.235032  0.928160  0.958157  0.527129     0.998051   \n",
       "\n",
       "                 critic_score  user_score  total_sales  \n",
       "year_of_release     -0.021142    0.152447    -0.235032  \n",
       "na_sales             0.415008   -0.020933     0.928160  \n",
       "eu_sales             0.346720   -0.048925     0.958157  \n",
       "jp_sales             0.322358    0.171332     0.527129  \n",
       "other_sales          0.409191   -0.035639     0.998051  \n",
       "critic_score         1.000000    0.557654     0.406568  \n",
       "user_score           0.557654    1.000000    -0.031957  \n",
       "total_sales          0.406568   -0.031957     1.000000  "
      ]
     },
     "execution_count": 29,
     "metadata": {},
     "output_type": "execute_result"
    }
   ],
   "source": [
    "df[df.platform=='PS4'].corr()"
   ]
  },
  {
   "cell_type": "markdown",
   "metadata": {},
   "source": [
    "The correlation matrix (Pearson's correlation) show that for total sales, this is mildly (linearly) correlated with critic score (0.40) and not correlated with user score (-0.03).  So critic scores may slighly increase sales of a game, but user scores have no impact.  Part of the reason could be people have already bought the game and don't know if they like it or not until after they play it."
   ]
  },
  {
   "cell_type": "code",
   "execution_count": 30,
   "metadata": {},
   "outputs": [
    {
     "data": {
      "text/html": [
       "<div>\n",
       "<style scoped>\n",
       "    .dataframe tbody tr th:only-of-type {\n",
       "        vertical-align: middle;\n",
       "    }\n",
       "\n",
       "    .dataframe tbody tr th {\n",
       "        vertical-align: top;\n",
       "    }\n",
       "\n",
       "    .dataframe thead th {\n",
       "        text-align: right;\n",
       "    }\n",
       "</style>\n",
       "<table border=\"1\" class=\"dataframe\">\n",
       "  <thead>\n",
       "    <tr style=\"text-align: right;\">\n",
       "      <th>platform</th>\n",
       "      <th>3DS</th>\n",
       "      <th>DS</th>\n",
       "      <th>PC</th>\n",
       "      <th>PS2</th>\n",
       "      <th>PS3</th>\n",
       "      <th>PS4</th>\n",
       "      <th>PSP</th>\n",
       "      <th>PSV</th>\n",
       "      <th>Wii</th>\n",
       "      <th>WiiU</th>\n",
       "      <th>X360</th>\n",
       "      <th>XOne</th>\n",
       "    </tr>\n",
       "    <tr>\n",
       "      <th>name</th>\n",
       "      <th></th>\n",
       "      <th></th>\n",
       "      <th></th>\n",
       "      <th></th>\n",
       "      <th></th>\n",
       "      <th></th>\n",
       "      <th></th>\n",
       "      <th></th>\n",
       "      <th></th>\n",
       "      <th></th>\n",
       "      <th></th>\n",
       "      <th></th>\n",
       "    </tr>\n",
       "  </thead>\n",
       "  <tbody>\n",
       "    <tr>\n",
       "      <td>Frozen: Olaf's Quest</td>\n",
       "      <td>0.59</td>\n",
       "      <td>0.51</td>\n",
       "      <td>NaN</td>\n",
       "      <td>NaN</td>\n",
       "      <td>NaN</td>\n",
       "      <td>NaN</td>\n",
       "      <td>NaN</td>\n",
       "      <td>NaN</td>\n",
       "      <td>NaN</td>\n",
       "      <td>NaN</td>\n",
       "      <td>NaN</td>\n",
       "      <td>NaN</td>\n",
       "    </tr>\n",
       "    <tr>\n",
       "      <td>2010 FIFA World Cup South Africa</td>\n",
       "      <td>NaN</td>\n",
       "      <td>NaN</td>\n",
       "      <td>NaN</td>\n",
       "      <td>NaN</td>\n",
       "      <td>1.23</td>\n",
       "      <td>NaN</td>\n",
       "      <td>0.46</td>\n",
       "      <td>NaN</td>\n",
       "      <td>0.43</td>\n",
       "      <td>NaN</td>\n",
       "      <td>0.85</td>\n",
       "      <td>NaN</td>\n",
       "    </tr>\n",
       "    <tr>\n",
       "      <td>2014 FIFA World Cup Brazil</td>\n",
       "      <td>NaN</td>\n",
       "      <td>NaN</td>\n",
       "      <td>NaN</td>\n",
       "      <td>NaN</td>\n",
       "      <td>0.61</td>\n",
       "      <td>NaN</td>\n",
       "      <td>NaN</td>\n",
       "      <td>NaN</td>\n",
       "      <td>NaN</td>\n",
       "      <td>NaN</td>\n",
       "      <td>0.43</td>\n",
       "      <td>NaN</td>\n",
       "    </tr>\n",
       "    <tr>\n",
       "      <td>3rd Super Robot Wars Z Jigoku Hen</td>\n",
       "      <td>NaN</td>\n",
       "      <td>NaN</td>\n",
       "      <td>NaN</td>\n",
       "      <td>NaN</td>\n",
       "      <td>0.23</td>\n",
       "      <td>NaN</td>\n",
       "      <td>NaN</td>\n",
       "      <td>0.19</td>\n",
       "      <td>NaN</td>\n",
       "      <td>NaN</td>\n",
       "      <td>NaN</td>\n",
       "      <td>NaN</td>\n",
       "    </tr>\n",
       "    <tr>\n",
       "      <td>3rd Super Robot Wars Z: Tengoku-Hen</td>\n",
       "      <td>NaN</td>\n",
       "      <td>NaN</td>\n",
       "      <td>NaN</td>\n",
       "      <td>NaN</td>\n",
       "      <td>0.15</td>\n",
       "      <td>NaN</td>\n",
       "      <td>NaN</td>\n",
       "      <td>0.19</td>\n",
       "      <td>NaN</td>\n",
       "      <td>NaN</td>\n",
       "      <td>NaN</td>\n",
       "      <td>NaN</td>\n",
       "    </tr>\n",
       "    <tr>\n",
       "      <td>...</td>\n",
       "      <td>...</td>\n",
       "      <td>...</td>\n",
       "      <td>...</td>\n",
       "      <td>...</td>\n",
       "      <td>...</td>\n",
       "      <td>...</td>\n",
       "      <td>...</td>\n",
       "      <td>...</td>\n",
       "      <td>...</td>\n",
       "      <td>...</td>\n",
       "      <td>...</td>\n",
       "      <td>...</td>\n",
       "    </tr>\n",
       "    <tr>\n",
       "      <td>de Blob 2</td>\n",
       "      <td>NaN</td>\n",
       "      <td>0.11</td>\n",
       "      <td>NaN</td>\n",
       "      <td>NaN</td>\n",
       "      <td>0.21</td>\n",
       "      <td>NaN</td>\n",
       "      <td>NaN</td>\n",
       "      <td>NaN</td>\n",
       "      <td>0.19</td>\n",
       "      <td>NaN</td>\n",
       "      <td>0.15</td>\n",
       "      <td>NaN</td>\n",
       "    </tr>\n",
       "    <tr>\n",
       "      <td>iCarly 2: iJoin The Click!</td>\n",
       "      <td>NaN</td>\n",
       "      <td>0.27</td>\n",
       "      <td>NaN</td>\n",
       "      <td>NaN</td>\n",
       "      <td>NaN</td>\n",
       "      <td>NaN</td>\n",
       "      <td>NaN</td>\n",
       "      <td>NaN</td>\n",
       "      <td>0.10</td>\n",
       "      <td>NaN</td>\n",
       "      <td>NaN</td>\n",
       "      <td>NaN</td>\n",
       "    </tr>\n",
       "    <tr>\n",
       "      <td>nail'd</td>\n",
       "      <td>NaN</td>\n",
       "      <td>NaN</td>\n",
       "      <td>NaN</td>\n",
       "      <td>NaN</td>\n",
       "      <td>0.12</td>\n",
       "      <td>NaN</td>\n",
       "      <td>NaN</td>\n",
       "      <td>NaN</td>\n",
       "      <td>NaN</td>\n",
       "      <td>NaN</td>\n",
       "      <td>0.11</td>\n",
       "      <td>NaN</td>\n",
       "    </tr>\n",
       "    <tr>\n",
       "      <td>pro evolution soccer 2011</td>\n",
       "      <td>NaN</td>\n",
       "      <td>NaN</td>\n",
       "      <td>0.06</td>\n",
       "      <td>0.41</td>\n",
       "      <td>2.41</td>\n",
       "      <td>NaN</td>\n",
       "      <td>0.80</td>\n",
       "      <td>NaN</td>\n",
       "      <td>0.22</td>\n",
       "      <td>NaN</td>\n",
       "      <td>0.60</td>\n",
       "      <td>NaN</td>\n",
       "    </tr>\n",
       "    <tr>\n",
       "      <td>uDraw Studio: Instant Artist</td>\n",
       "      <td>NaN</td>\n",
       "      <td>NaN</td>\n",
       "      <td>NaN</td>\n",
       "      <td>NaN</td>\n",
       "      <td>NaN</td>\n",
       "      <td>NaN</td>\n",
       "      <td>NaN</td>\n",
       "      <td>NaN</td>\n",
       "      <td>0.17</td>\n",
       "      <td>NaN</td>\n",
       "      <td>0.02</td>\n",
       "      <td>NaN</td>\n",
       "    </tr>\n",
       "  </tbody>\n",
       "</table>\n",
       "<p>1015 rows × 12 columns</p>\n",
       "</div>"
      ],
      "text/plain": [
       "platform                              3DS    DS    PC   PS2   PS3  PS4   PSP  \\\n",
       "name                                                                           \n",
       " Frozen: Olaf's Quest                0.59  0.51   NaN   NaN   NaN  NaN   NaN   \n",
       "2010 FIFA World Cup South Africa      NaN   NaN   NaN   NaN  1.23  NaN  0.46   \n",
       "2014 FIFA World Cup Brazil            NaN   NaN   NaN   NaN  0.61  NaN   NaN   \n",
       "3rd Super Robot Wars Z Jigoku Hen     NaN   NaN   NaN   NaN  0.23  NaN   NaN   \n",
       "3rd Super Robot Wars Z: Tengoku-Hen   NaN   NaN   NaN   NaN  0.15  NaN   NaN   \n",
       "...                                   ...   ...   ...   ...   ...  ...   ...   \n",
       "de Blob 2                             NaN  0.11   NaN   NaN  0.21  NaN   NaN   \n",
       "iCarly 2: iJoin The Click!            NaN  0.27   NaN   NaN   NaN  NaN   NaN   \n",
       "nail'd                                NaN   NaN   NaN   NaN  0.12  NaN   NaN   \n",
       "pro evolution soccer 2011             NaN   NaN  0.06  0.41  2.41  NaN  0.80   \n",
       "uDraw Studio: Instant Artist          NaN   NaN   NaN   NaN   NaN  NaN   NaN   \n",
       "\n",
       "platform                              PSV   Wii  WiiU  X360  XOne  \n",
       "name                                                               \n",
       " Frozen: Olaf's Quest                 NaN   NaN   NaN   NaN   NaN  \n",
       "2010 FIFA World Cup South Africa      NaN  0.43   NaN  0.85   NaN  \n",
       "2014 FIFA World Cup Brazil            NaN   NaN   NaN  0.43   NaN  \n",
       "3rd Super Robot Wars Z Jigoku Hen    0.19   NaN   NaN   NaN   NaN  \n",
       "3rd Super Robot Wars Z: Tengoku-Hen  0.19   NaN   NaN   NaN   NaN  \n",
       "...                                   ...   ...   ...   ...   ...  \n",
       "de Blob 2                             NaN  0.19   NaN  0.15   NaN  \n",
       "iCarly 2: iJoin The Click!            NaN  0.10   NaN   NaN   NaN  \n",
       "nail'd                                NaN   NaN   NaN  0.11   NaN  \n",
       "pro evolution soccer 2011             NaN  0.22   NaN  0.60   NaN  \n",
       "uDraw Studio: Instant Artist          NaN  0.17   NaN  0.02   NaN  \n",
       "\n",
       "[1015 rows x 12 columns]"
      ]
     },
     "execution_count": 30,
     "metadata": {},
     "output_type": "execute_result"
    }
   ],
   "source": [
    "game_df = df.groupby(['name']).filter(lambda x: x['platform'].count() >= 2.).groupby(['name', 'platform']).total_sales.sum().unstack(1)\n",
    "game_df"
   ]
  },
  {
   "cell_type": "code",
   "execution_count": 31,
   "metadata": {},
   "outputs": [
    {
     "data": {
      "image/png": "[encoded data removed]",
      "text/plain": [
       "<Figure size 432x288 with 1 Axes>"
      ]
     },
     "metadata": {
      "needs_background": "light"
     },
     "output_type": "display_data"
    }
   ],
   "source": [
    "game_df.std(1).hist(bins=100)\n",
    "plt.yscale('log')\n",
    "\n",
    "plt.show()"
   ]
  },
  {
   "cell_type": "markdown",
   "metadata": {},
   "source": [
    "Sales over different platforms can vary a lot - we look at the standard deviation as one measure.  However most are very close to zero, meaning the sales across platforms are close to each other."
   ]
  },
  {
   "cell_type": "code",
   "execution_count": 32,
   "metadata": {},
   "outputs": [
    {
     "data": {
      "image/png": "[encoded data removed]",
      "text/plain": [
       "<Figure size 432x288 with 1 Axes>"
      ]
     },
     "metadata": {
      "needs_background": "light"
     },
     "output_type": "display_data"
    }
   ],
   "source": [
    "sns.boxplot(data=df, x ='genre', y='total_sales' )\n",
    "plt.yscale('log')\n",
    "plt.xticks(rotation=45);"
   ]
  },
  {
   "cell_type": "markdown",
   "metadata": {},
   "source": [
    "For Genres,Shooter games have the highest averages sales, with Adventure games the lowest."
   ]
  },
  {
   "cell_type": "code",
   "execution_count": 33,
   "metadata": {},
   "outputs": [
    {
     "data": {
      "image/png": "[encoded data removed]",
      "text/plain": [
       "<Figure size 432x288 with 1 Axes>"
      ]
     },
     "metadata": {
      "needs_background": "light"
     },
     "output_type": "display_data"
    }
   ],
   "source": [
    "sns.barplot(data=df, x ='genre', y='total_sales' )\n",
    "plt.yscale('log')\n",
    "plt.xticks(rotation=45);"
   ]
  },
  {
   "cell_type": "markdown",
   "metadata": {},
   "source": [
    "After all data preprocessing, first, I ploted number of games released each year to get a sense of how far back we should be looking. There are relatively few games released prior to 2000, with a peak around 2008. In 2017 PS4 will be the most popular platform.\n",
    "\n",
    "    -Platforms ( 3DS, PC, PS3, PSV, Wii, WiiU, XBOX360) are shrinking in sales for the past few years.\n",
    "    -PS4 and XOne are shrinking in sales last year.\n",
    "    -PS4 is the top sales platform in 2016.\n",
    "    -Most sales platforms are of Wii, X360, PS3, XOne and PS4\n",
    "    -Critic scores may slighly increase sales of a game, but user scores have no impact. Part of the reason could be people have already bought the game and don't know if they like it or not until after they play it.\n",
    "        - Platforms ( 3DS, PC, PS3, PSV, PSP, Wii, WiiU, XBOX360, XOne) will be sale in 2017.\n",
    "    -For Genres,Shooter games have the highest averages sales, with Adventure games the lowest."
   ]
  },
  {
   "cell_type": "markdown",
   "metadata": {},
   "source": [
    "##### Regional Differences in Top Platforms"
   ]
  },
  {
   "cell_type": "code",
   "execution_count": 34,
   "metadata": {},
   "outputs": [
    {
     "data": {
      "text/html": [
       "<div>\n",
       "<style scoped>\n",
       "    .dataframe tbody tr th:only-of-type {\n",
       "        vertical-align: middle;\n",
       "    }\n",
       "\n",
       "    .dataframe tbody tr th {\n",
       "        vertical-align: top;\n",
       "    }\n",
       "\n",
       "    .dataframe thead th {\n",
       "        text-align: right;\n",
       "    }\n",
       "</style>\n",
       "<table border=\"1\" class=\"dataframe\">\n",
       "  <thead>\n",
       "    <tr style=\"text-align: right;\">\n",
       "      <th></th>\n",
       "      <th>na_sales</th>\n",
       "      <th>eu_sales</th>\n",
       "      <th>jp_sales</th>\n",
       "      <th>other_sales</th>\n",
       "      <th>total_sales</th>\n",
       "    </tr>\n",
       "    <tr>\n",
       "      <th>platform</th>\n",
       "      <th></th>\n",
       "      <th></th>\n",
       "      <th></th>\n",
       "      <th></th>\n",
       "      <th></th>\n",
       "    </tr>\n",
       "  </thead>\n",
       "  <tbody>\n",
       "    <tr>\n",
       "      <td>3DS</td>\n",
       "      <td>82.65</td>\n",
       "      <td>61.27</td>\n",
       "      <td>100.62</td>\n",
       "      <td>13.27</td>\n",
       "      <td>257.81</td>\n",
       "    </tr>\n",
       "    <tr>\n",
       "      <td>DS</td>\n",
       "      <td>59.66</td>\n",
       "      <td>28.06</td>\n",
       "      <td>27.90</td>\n",
       "      <td>8.13</td>\n",
       "      <td>123.75</td>\n",
       "    </tr>\n",
       "    <tr>\n",
       "      <td>PC</td>\n",
       "      <td>39.07</td>\n",
       "      <td>68.82</td>\n",
       "      <td>0.00</td>\n",
       "      <td>14.07</td>\n",
       "      <td>121.96</td>\n",
       "    </tr>\n",
       "    <tr>\n",
       "      <td>PS2</td>\n",
       "      <td>2.32</td>\n",
       "      <td>1.67</td>\n",
       "      <td>0.80</td>\n",
       "      <td>1.30</td>\n",
       "      <td>6.09</td>\n",
       "    </tr>\n",
       "    <tr>\n",
       "      <td>PS3</td>\n",
       "      <td>229.25</td>\n",
       "      <td>213.60</td>\n",
       "      <td>59.26</td>\n",
       "      <td>85.63</td>\n",
       "      <td>587.74</td>\n",
       "    </tr>\n",
       "    <tr>\n",
       "      <td>PS4</td>\n",
       "      <td>108.74</td>\n",
       "      <td>141.09</td>\n",
       "      <td>15.96</td>\n",
       "      <td>48.35</td>\n",
       "      <td>314.14</td>\n",
       "    </tr>\n",
       "    <tr>\n",
       "      <td>PSP</td>\n",
       "      <td>9.65</td>\n",
       "      <td>7.59</td>\n",
       "      <td>42.20</td>\n",
       "      <td>4.61</td>\n",
       "      <td>64.05</td>\n",
       "    </tr>\n",
       "    <tr>\n",
       "      <td>PSV</td>\n",
       "      <td>12.47</td>\n",
       "      <td>13.07</td>\n",
       "      <td>21.84</td>\n",
       "      <td>6.43</td>\n",
       "      <td>53.81</td>\n",
       "    </tr>\n",
       "    <tr>\n",
       "      <td>Wii</td>\n",
       "      <td>121.20</td>\n",
       "      <td>65.91</td>\n",
       "      <td>17.75</td>\n",
       "      <td>18.11</td>\n",
       "      <td>222.97</td>\n",
       "    </tr>\n",
       "    <tr>\n",
       "      <td>WiiU</td>\n",
       "      <td>38.10</td>\n",
       "      <td>25.13</td>\n",
       "      <td>13.01</td>\n",
       "      <td>5.95</td>\n",
       "      <td>82.19</td>\n",
       "    </tr>\n",
       "    <tr>\n",
       "      <td>X360</td>\n",
       "      <td>334.18</td>\n",
       "      <td>163.41</td>\n",
       "      <td>5.46</td>\n",
       "      <td>47.36</td>\n",
       "      <td>550.41</td>\n",
       "    </tr>\n",
       "    <tr>\n",
       "      <td>XOne</td>\n",
       "      <td>93.12</td>\n",
       "      <td>51.59</td>\n",
       "      <td>0.34</td>\n",
       "      <td>14.27</td>\n",
       "      <td>159.32</td>\n",
       "    </tr>\n",
       "  </tbody>\n",
       "</table>\n",
       "</div>"
      ],
      "text/plain": [
       "          na_sales  eu_sales  jp_sales  other_sales  total_sales\n",
       "platform                                                        \n",
       "3DS          82.65     61.27    100.62        13.27       257.81\n",
       "DS           59.66     28.06     27.90         8.13       123.75\n",
       "PC           39.07     68.82      0.00        14.07       121.96\n",
       "PS2           2.32      1.67      0.80         1.30         6.09\n",
       "PS3         229.25    213.60     59.26        85.63       587.74\n",
       "PS4         108.74    141.09     15.96        48.35       314.14\n",
       "PSP           9.65      7.59     42.20         4.61        64.05\n",
       "PSV          12.47     13.07     21.84         6.43        53.81\n",
       "Wii         121.20     65.91     17.75        18.11       222.97\n",
       "WiiU         38.10     25.13     13.01         5.95        82.19\n",
       "X360        334.18    163.41      5.46        47.36       550.41\n",
       "XOne         93.12     51.59      0.34        14.27       159.32"
      ]
     },
     "execution_count": 34,
     "metadata": {},
     "output_type": "execute_result"
    }
   ],
   "source": [
    "platform_sales = df.groupby('platform')[['na_sales','eu_sales','jp_sales','other_sales','total_sales']].sum()\n",
    "platform_sales"
   ]
  },
  {
   "cell_type": "code",
   "execution_count": 35,
   "metadata": {},
   "outputs": [
    {
     "data": {
      "text/plain": [
       "platform\n",
       "X360    334.18\n",
       "PS3     229.25\n",
       "Wii     121.20\n",
       "PS4     108.74\n",
       "XOne     93.12\n",
       "Name: na_sales, dtype: float64"
      ]
     },
     "execution_count": 35,
     "metadata": {},
     "output_type": "execute_result"
    }
   ],
   "source": [
    "platform_sales.na_sales.nlargest(5)"
   ]
  },
  {
   "cell_type": "code",
   "execution_count": 36,
   "metadata": {},
   "outputs": [
    {
     "data": {
      "text/plain": [
       "platform\n",
       "PS3     213.60\n",
       "X360    163.41\n",
       "PS4     141.09\n",
       "PC       68.82\n",
       "Wii      65.91\n",
       "Name: eu_sales, dtype: float64"
      ]
     },
     "execution_count": 36,
     "metadata": {},
     "output_type": "execute_result"
    }
   ],
   "source": [
    "platform_sales.eu_sales.nlargest(5)"
   ]
  },
  {
   "cell_type": "code",
   "execution_count": 37,
   "metadata": {},
   "outputs": [
    {
     "data": {
      "text/plain": [
       "platform\n",
       "3DS    100.62\n",
       "PS3     59.26\n",
       "PSP     42.20\n",
       "DS      27.90\n",
       "PSV     21.84\n",
       "Name: jp_sales, dtype: float64"
      ]
     },
     "execution_count": 37,
     "metadata": {},
     "output_type": "execute_result"
    }
   ],
   "source": [
    "platform_sales.jp_sales.nlargest(5)"
   ]
  },
  {
   "cell_type": "markdown",
   "metadata": {},
   "source": [
    "The most popular platforms by region :\n",
    "    \n",
    "    NA region - X360, 2/3 from total sales;\n",
    "    EU region - PS3, 1/3 from total sales;\n",
    "    JP region - 3DS, 2/5 from total sales.\n"
   ]
  },
  {
   "cell_type": "code",
   "execution_count": 38,
   "metadata": {},
   "outputs": [
    {
     "data": {
      "image/png": "[encoded data removed]",
      "text/plain": [
       "<Figure size 432x288 with 1 Axes>"
      ]
     },
     "metadata": {
      "needs_background": "light"
     },
     "output_type": "display_data"
    }
   ],
   "source": [
    "(platform_sales.divide(platform_sales.sum(1),0)).loc[platform_sales.jp_sales.nlargest(5).index].plot(kind='bar', stacked=True)\n",
    "plt.show()"
   ]
  },
  {
   "cell_type": "markdown",
   "metadata": {},
   "source": []
  },
  {
   "cell_type": "code",
   "execution_count": 39,
   "metadata": {},
   "outputs": [
    {
     "data": {
      "text/html": [
       "<div>\n",
       "<style scoped>\n",
       "    .dataframe tbody tr th:only-of-type {\n",
       "        vertical-align: middle;\n",
       "    }\n",
       "\n",
       "    .dataframe tbody tr th {\n",
       "        vertical-align: top;\n",
       "    }\n",
       "\n",
       "    .dataframe thead th {\n",
       "        text-align: right;\n",
       "    }\n",
       "</style>\n",
       "<table border=\"1\" class=\"dataframe\">\n",
       "  <thead>\n",
       "    <tr style=\"text-align: right;\">\n",
       "      <th></th>\n",
       "      <th>na_sales</th>\n",
       "      <th>eu_sales</th>\n",
       "      <th>jp_sales</th>\n",
       "      <th>other_sales</th>\n",
       "      <th>total_sales</th>\n",
       "    </tr>\n",
       "    <tr>\n",
       "      <th>genre</th>\n",
       "      <th></th>\n",
       "      <th></th>\n",
       "      <th></th>\n",
       "      <th></th>\n",
       "      <th></th>\n",
       "    </tr>\n",
       "  </thead>\n",
       "  <tbody>\n",
       "    <tr>\n",
       "      <td>Action</td>\n",
       "      <td>290.64</td>\n",
       "      <td>233.63</td>\n",
       "      <td>72.20</td>\n",
       "      <td>76.62</td>\n",
       "      <td>673.09</td>\n",
       "    </tr>\n",
       "    <tr>\n",
       "      <td>Adventure</td>\n",
       "      <td>20.84</td>\n",
       "      <td>18.88</td>\n",
       "      <td>15.67</td>\n",
       "      <td>5.61</td>\n",
       "      <td>61.00</td>\n",
       "    </tr>\n",
       "    <tr>\n",
       "      <td>Fighting</td>\n",
       "      <td>39.05</td>\n",
       "      <td>20.33</td>\n",
       "      <td>13.90</td>\n",
       "      <td>8.31</td>\n",
       "      <td>81.59</td>\n",
       "    </tr>\n",
       "    <tr>\n",
       "      <td>Misc</td>\n",
       "      <td>123.80</td>\n",
       "      <td>66.09</td>\n",
       "      <td>24.29</td>\n",
       "      <td>20.38</td>\n",
       "      <td>234.56</td>\n",
       "    </tr>\n",
       "    <tr>\n",
       "      <td>Platform</td>\n",
       "      <td>54.90</td>\n",
       "      <td>38.30</td>\n",
       "      <td>15.81</td>\n",
       "      <td>10.71</td>\n",
       "      <td>119.72</td>\n",
       "    </tr>\n",
       "    <tr>\n",
       "      <td>Puzzle</td>\n",
       "      <td>9.10</td>\n",
       "      <td>6.58</td>\n",
       "      <td>3.40</td>\n",
       "      <td>1.52</td>\n",
       "      <td>20.60</td>\n",
       "    </tr>\n",
       "    <tr>\n",
       "      <td>Racing</td>\n",
       "      <td>46.11</td>\n",
       "      <td>54.75</td>\n",
       "      <td>6.68</td>\n",
       "      <td>15.14</td>\n",
       "      <td>122.68</td>\n",
       "    </tr>\n",
       "    <tr>\n",
       "      <td>Role-Playing</td>\n",
       "      <td>112.05</td>\n",
       "      <td>75.48</td>\n",
       "      <td>103.54</td>\n",
       "      <td>24.21</td>\n",
       "      <td>315.28</td>\n",
       "    </tr>\n",
       "    <tr>\n",
       "      <td>Shooter</td>\n",
       "      <td>237.47</td>\n",
       "      <td>171.45</td>\n",
       "      <td>14.04</td>\n",
       "      <td>56.78</td>\n",
       "      <td>479.74</td>\n",
       "    </tr>\n",
       "    <tr>\n",
       "      <td>Simulation</td>\n",
       "      <td>26.39</td>\n",
       "      <td>26.39</td>\n",
       "      <td>13.30</td>\n",
       "      <td>5.67</td>\n",
       "      <td>71.75</td>\n",
       "    </tr>\n",
       "    <tr>\n",
       "      <td>Sports</td>\n",
       "      <td>156.81</td>\n",
       "      <td>116.84</td>\n",
       "      <td>15.51</td>\n",
       "      <td>39.23</td>\n",
       "      <td>328.39</td>\n",
       "    </tr>\n",
       "    <tr>\n",
       "      <td>Strategy</td>\n",
       "      <td>13.25</td>\n",
       "      <td>12.49</td>\n",
       "      <td>6.80</td>\n",
       "      <td>3.30</td>\n",
       "      <td>35.84</td>\n",
       "    </tr>\n",
       "  </tbody>\n",
       "</table>\n",
       "</div>"
      ],
      "text/plain": [
       "              na_sales  eu_sales  jp_sales  other_sales  total_sales\n",
       "genre                                                               \n",
       "Action          290.64    233.63     72.20        76.62       673.09\n",
       "Adventure        20.84     18.88     15.67         5.61        61.00\n",
       "Fighting         39.05     20.33     13.90         8.31        81.59\n",
       "Misc            123.80     66.09     24.29        20.38       234.56\n",
       "Platform         54.90     38.30     15.81        10.71       119.72\n",
       "Puzzle            9.10      6.58      3.40         1.52        20.60\n",
       "Racing           46.11     54.75      6.68        15.14       122.68\n",
       "Role-Playing    112.05     75.48    103.54        24.21       315.28\n",
       "Shooter         237.47    171.45     14.04        56.78       479.74\n",
       "Simulation       26.39     26.39     13.30         5.67        71.75\n",
       "Sports          156.81    116.84     15.51        39.23       328.39\n",
       "Strategy         13.25     12.49      6.80         3.30        35.84"
      ]
     },
     "execution_count": 39,
     "metadata": {},
     "output_type": "execute_result"
    }
   ],
   "source": [
    "genre_sales = df.groupby('genre')[['na_sales','eu_sales','jp_sales','other_sales','total_sales']].sum()\n",
    "genre_sales"
   ]
  },
  {
   "cell_type": "code",
   "execution_count": 40,
   "metadata": {},
   "outputs": [
    {
     "data": {
      "text/plain": [
       "genre\n",
       "Action          290.64\n",
       "Shooter         237.47\n",
       "Sports          156.81\n",
       "Misc            123.80\n",
       "Role-Playing    112.05\n",
       "Name: na_sales, dtype: float64"
      ]
     },
     "execution_count": 40,
     "metadata": {},
     "output_type": "execute_result"
    }
   ],
   "source": [
    "genre_sales.na_sales.nlargest(5)"
   ]
  },
  {
   "cell_type": "code",
   "execution_count": 41,
   "metadata": {},
   "outputs": [
    {
     "data": {
      "text/plain": [
       "genre\n",
       "Action          233.63\n",
       "Shooter         171.45\n",
       "Sports          116.84\n",
       "Role-Playing     75.48\n",
       "Misc             66.09\n",
       "Name: eu_sales, dtype: float64"
      ]
     },
     "execution_count": 41,
     "metadata": {},
     "output_type": "execute_result"
    }
   ],
   "source": [
    "genre_sales.eu_sales.nlargest(5)"
   ]
  },
  {
   "cell_type": "code",
   "execution_count": 42,
   "metadata": {},
   "outputs": [
    {
     "data": {
      "text/plain": [
       "genre\n",
       "Role-Playing    103.54\n",
       "Action           72.20\n",
       "Misc             24.29\n",
       "Platform         15.81\n",
       "Adventure        15.67\n",
       "Name: jp_sales, dtype: float64"
      ]
     },
     "execution_count": 42,
     "metadata": {},
     "output_type": "execute_result"
    }
   ],
   "source": [
    "genre_sales.jp_sales.nlargest(5)"
   ]
  },
  {
   "cell_type": "markdown",
   "metadata": {},
   "source": [
    "The most popular genre by region :\n",
    "NA region - Action, 1/2 from total sales;\n",
    "EU region - Action, 1/4 from total sales;\n",
    "JP region - Role-Playing, 1/3 from total sales.\n"
   ]
  },
  {
   "cell_type": "code",
   "execution_count": 43,
   "metadata": {},
   "outputs": [
    {
     "data": {
      "image/png": "[encoded data removed]",
      "text/plain": [
       "<Figure size 432x288 with 1 Axes>"
      ]
     },
     "metadata": {
      "needs_background": "light"
     },
     "output_type": "display_data"
    }
   ],
   "source": [
    "(genre_sales.divide(genre_sales.sum(1),0)).loc[genre_sales.jp_sales.nlargest(5).index].plot(kind='bar', stacked=True)\n",
    "plt.show()"
   ]
  },
  {
   "cell_type": "markdown",
   "metadata": {},
   "source": [
    "## Statistical Tests <a name=\"introduction2\"></a>\n"
   ]
  },
  {
   "cell_type": "markdown",
   "metadata": {},
   "source": [
    "*Average user ratings of the Xbox One and PC platforms are the same.\n",
    "\n",
    "H0: average user ratings of the Xbox One = average user ratings of the PC\n",
    "\n",
    "H1: average user ratings of the Xbox One <> average user ratings of the PC\n",
    "\n",
    "alpha = 0.05 (pretty standard choice)"
   ]
  },
  {
   "cell_type": "code",
   "execution_count": 44,
   "metadata": {},
   "outputs": [
    {
     "data": {
      "text/plain": [
       "2.3131670563383415"
      ]
     },
     "execution_count": 44,
     "metadata": {},
     "output_type": "execute_result"
    }
   ],
   "source": [
    "np.var(df.user_score)\n"
   ]
  },
  {
   "cell_type": "code",
   "execution_count": 45,
   "metadata": {},
   "outputs": [
    {
     "data": {
      "text/html": [
       "<div>\n",
       "<style scoped>\n",
       "    .dataframe tbody tr th:only-of-type {\n",
       "        vertical-align: middle;\n",
       "    }\n",
       "\n",
       "    .dataframe tbody tr th {\n",
       "        vertical-align: top;\n",
       "    }\n",
       "\n",
       "    .dataframe thead th {\n",
       "        text-align: right;\n",
       "    }\n",
       "</style>\n",
       "<table border=\"1\" class=\"dataframe\">\n",
       "  <thead>\n",
       "    <tr style=\"text-align: right;\">\n",
       "      <th></th>\n",
       "      <th>count</th>\n",
       "      <th>mean</th>\n",
       "      <th>std</th>\n",
       "      <th>min</th>\n",
       "      <th>25%</th>\n",
       "      <th>50%</th>\n",
       "      <th>75%</th>\n",
       "      <th>max</th>\n",
       "    </tr>\n",
       "    <tr>\n",
       "      <th>platform</th>\n",
       "      <th></th>\n",
       "      <th></th>\n",
       "      <th></th>\n",
       "      <th></th>\n",
       "      <th></th>\n",
       "      <th></th>\n",
       "      <th></th>\n",
       "      <th></th>\n",
       "    </tr>\n",
       "  </thead>\n",
       "  <tbody>\n",
       "    <tr>\n",
       "      <td>XOne</td>\n",
       "      <td>182.0</td>\n",
       "      <td>6.521429</td>\n",
       "      <td>1.380941</td>\n",
       "      <td>1.6</td>\n",
       "      <td>5.8</td>\n",
       "      <td>6.8</td>\n",
       "      <td>7.5</td>\n",
       "      <td>9.2</td>\n",
       "    </tr>\n",
       "    <tr>\n",
       "      <td>PC</td>\n",
       "      <td>374.0</td>\n",
       "      <td>6.518182</td>\n",
       "      <td>1.565390</td>\n",
       "      <td>1.4</td>\n",
       "      <td>5.6</td>\n",
       "      <td>6.8</td>\n",
       "      <td>7.7</td>\n",
       "      <td>9.3</td>\n",
       "    </tr>\n",
       "  </tbody>\n",
       "</table>\n",
       "</div>"
      ],
      "text/plain": [
       "          count      mean       std  min  25%  50%  75%  max\n",
       "platform                                                    \n",
       "XOne      182.0  6.521429  1.380941  1.6  5.8  6.8  7.5  9.2\n",
       "PC        374.0  6.518182  1.565390  1.4  5.6  6.8  7.7  9.3"
      ]
     },
     "execution_count": 45,
     "metadata": {},
     "output_type": "execute_result"
    }
   ],
   "source": [
    "df.groupby('platform').user_score.describe().loc[['XOne', 'PC']]"
   ]
  },
  {
   "cell_type": "code",
   "execution_count": 46,
   "metadata": {},
   "outputs": [
    {
     "data": {
      "text/plain": [
       "Ttest_indResult(statistic=0.023828344764552412, pvalue=0.980998110649032)"
      ]
     },
     "execution_count": 46,
     "metadata": {},
     "output_type": "execute_result"
    }
   ],
   "source": [
    "stats.ttest_ind(df[df.platform=='XOne'].user_score.dropna(), df[df.platform=='PC'].user_score.dropna())"
   ]
  },
  {
   "cell_type": "markdown",
   "metadata": {},
   "source": [
    "We reject the null hypothesis of equal averages -- there is a significant difference in average user ratings of two platforms."
   ]
  },
  {
   "cell_type": "markdown",
   "metadata": {},
   "source": [
    "*Average user ratings for the Action and Sports genres are different.\n",
    "\n",
    "H0: average user ratings for the Action = average user ratings for the Sports\n",
    "\n",
    "H1: average user ratings for the Action <> average user ratings for the Sports\n",
    "\n",
    "alpha = 0.05 (pretty standard choice)\n",
    "\n"
   ]
  },
  {
   "cell_type": "code",
   "execution_count": 47,
   "metadata": {},
   "outputs": [
    {
     "data": {
      "text/html": [
       "<div>\n",
       "<style scoped>\n",
       "    .dataframe tbody tr th:only-of-type {\n",
       "        vertical-align: middle;\n",
       "    }\n",
       "\n",
       "    .dataframe tbody tr th {\n",
       "        vertical-align: top;\n",
       "    }\n",
       "\n",
       "    .dataframe thead th {\n",
       "        text-align: right;\n",
       "    }\n",
       "</style>\n",
       "<table border=\"1\" class=\"dataframe\">\n",
       "  <thead>\n",
       "    <tr style=\"text-align: right;\">\n",
       "      <th></th>\n",
       "      <th>count</th>\n",
       "      <th>mean</th>\n",
       "      <th>std</th>\n",
       "      <th>min</th>\n",
       "      <th>25%</th>\n",
       "      <th>50%</th>\n",
       "      <th>75%</th>\n",
       "      <th>max</th>\n",
       "    </tr>\n",
       "    <tr>\n",
       "      <th>genre</th>\n",
       "      <th></th>\n",
       "      <th></th>\n",
       "      <th></th>\n",
       "      <th></th>\n",
       "      <th></th>\n",
       "      <th></th>\n",
       "      <th></th>\n",
       "      <th></th>\n",
       "    </tr>\n",
       "  </thead>\n",
       "  <tbody>\n",
       "    <tr>\n",
       "      <td>Action</td>\n",
       "      <td>779.0</td>\n",
       "      <td>6.781900</td>\n",
       "      <td>1.360201</td>\n",
       "      <td>1.6</td>\n",
       "      <td>6.0</td>\n",
       "      <td>7.1</td>\n",
       "      <td>7.8</td>\n",
       "      <td>9.1</td>\n",
       "    </tr>\n",
       "    <tr>\n",
       "      <td>Sports</td>\n",
       "      <td>315.0</td>\n",
       "      <td>5.901587</td>\n",
       "      <td>1.683934</td>\n",
       "      <td>0.2</td>\n",
       "      <td>5.0</td>\n",
       "      <td>6.2</td>\n",
       "      <td>7.2</td>\n",
       "      <td>9.0</td>\n",
       "    </tr>\n",
       "  </tbody>\n",
       "</table>\n",
       "</div>"
      ],
      "text/plain": [
       "        count      mean       std  min  25%  50%  75%  max\n",
       "genre                                                     \n",
       "Action  779.0  6.781900  1.360201  1.6  6.0  7.1  7.8  9.1\n",
       "Sports  315.0  5.901587  1.683934  0.2  5.0  6.2  7.2  9.0"
      ]
     },
     "execution_count": 47,
     "metadata": {},
     "output_type": "execute_result"
    }
   ],
   "source": [
    "df.groupby('genre').user_score.describe().loc[['Action', 'Sports']]"
   ]
  },
  {
   "cell_type": "code",
   "execution_count": 48,
   "metadata": {},
   "outputs": [
    {
     "data": {
      "text/plain": [
       "16       8.2\n",
       "23       8.1\n",
       "42       8.3\n",
       "81       6.6\n",
       "118      8.3\n",
       "        ... \n",
       "16597    6.0\n",
       "16652    8.5\n",
       "16654    5.1\n",
       "16660    6.7\n",
       "16692    7.6\n",
       "Name: user_score, Length: 779, dtype: float64"
      ]
     },
     "execution_count": 48,
     "metadata": {},
     "output_type": "execute_result"
    }
   ],
   "source": [
    "df[df.genre=='Action'].user_score.dropna()"
   ]
  },
  {
   "cell_type": "code",
   "execution_count": 49,
   "metadata": {},
   "outputs": [
    {
     "data": {
      "text/plain": [
       "Ttest_indResult(statistic=9.026177597381961, pvalue=7.839124224330309e-19)"
      ]
     },
     "execution_count": 49,
     "metadata": {},
     "output_type": "execute_result"
    }
   ],
   "source": [
    "stats.ttest_ind(df[df.genre=='Action'].user_score.dropna(), df[df.genre=='Sports'].user_score.dropna())"
   ]
  },
  {
   "cell_type": "markdown",
   "metadata": {},
   "source": [
    "We get a VERY small pvalue (1.53x10-6) -- so with alpha set to 0.01 or 0.05 we reject the null hypothesis -- i.e. the two means are statistically different.  The average user ratings for the Action and Sports genres are not the same."
   ]
  },
  {
   "cell_type": "markdown",
   "metadata": {},
   "source": [
    "We fail to reject the null hypothesis of equal averages -- there is a significant difference in in average user ratings of two platforms."
   ]
  },
  {
   "cell_type": "markdown",
   "metadata": {},
   "source": [
    "# General conclusion <a name=\"introduction3\"></a>\n",
    "\n",
    "At first we prepared data:\n",
    "\n",
    "- replaced the column names (make them lowercase).\n",
    "- filled null values;\n",
    "- replaced the real data type with an integer;\n",
    "- categorixed data.\n",
    "\n",
    "After all data preprocessing, first, I ploted number of games released each year to get a sense of how far back we should be looking. There are relatively few games released prior to 2000, with a peak around 2008.\n",
    "In 2017 PS4 will be the most popular platform.\n",
    "\n",
    "- Platforms ( 3DS, PC, PS3, PSV, Wii, WiiU, XBOX360) are shrinking in sales for the past few years.\n",
    "- PS4 and XOne are shrinking in sales last year.\n",
    "- PS4 is the top sales platform in 2016.\n",
    "- Most sales platforms are of Wii, X360, PS3, XOne and PS4 \n",
    "- Critic scores may slighly increase sales of a game, but user scores have no impact. Part of the reason could be people have already bought the game and don't know if they like it or not until after they play it.\n",
    "- For Genres,Shooter games have the highest averages sales, with Adventure games the lowest.\n",
    "- Platforms ( 3DS, PC, PS3, PSV, PSP, Wii, WiiU, XBOX360, XOne) will be sale in 2017.\n",
    "- The most popular platforms by region :\n",
    "NA region - X360, 2/3 from total sales;\n",
    "EU region - PS3, 1/3 from total sales;\n",
    "JP region - 3DS, 2/5 from total sales.\n",
    "- The most popular genre by region :\n",
    "NA region - Action, 1/2 from total sales;\n",
    "EU region - Action, 1/4 from total sales;\n",
    "JP region - Role-Playing, 1/3 from total sales.\n",
    "\n",
    "And we tested the hypotheses:\n",
    "\n",
    "    Average user ratings of the Xbox One and PC platforms are the same.\n",
    "    Result: We reject the null hypothesis of equal averages\n",
    "    \n",
    "    Average user ratings for the Action and Sports genres are different.\n",
    "    Result: We fail to reject the null hypothesis of equal averages.\n",
    "    \n",
    "I recomend for the next year:\n",
    "- Buy more games for PS4;\n",
    "- Buy more game Shooter genre and less Adventure gerne."
   ]
  },
  {
   "cell_type": "code",
   "execution_count": null,
   "metadata": {},
   "outputs": [],
   "source": []
  }
 ],
 "metadata": {
  "ExecuteTimeLog": [
   {
    "duration": 217,
    "start_time": "2021-08-05T20:20:08.843Z"
   },
   {
    "duration": 1089,
    "start_time": "2021-08-05T20:20:14.160Z"
   },
   {
    "duration": 59,
    "start_time": "2021-08-05T20:20:15.251Z"
   },
   {
    "duration": 9,
    "start_time": "2021-08-05T20:20:15.312Z"
   },
   {
    "duration": 4,
    "start_time": "2021-08-05T20:20:15.323Z"
   },
   {
    "duration": 10,
    "start_time": "2021-08-05T20:20:15.328Z"
   },
   {
    "duration": 8,
    "start_time": "2021-08-05T20:20:15.340Z"
   },
   {
    "duration": 7,
    "start_time": "2021-08-05T20:20:15.349Z"
   },
   {
    "duration": 36,
    "start_time": "2021-08-05T20:20:15.357Z"
   },
   {
    "duration": 8,
    "start_time": "2021-08-05T20:20:15.501Z"
   },
   {
    "duration": 6,
    "start_time": "2021-08-05T20:20:15.590Z"
   },
   {
    "duration": 6,
    "start_time": "2021-08-05T20:20:15.769Z"
   },
   {
    "duration": 4,
    "start_time": "2021-08-05T20:20:15.925Z"
   },
   {
    "duration": 179,
    "start_time": "2021-08-05T20:20:16.671Z"
   },
   {
    "duration": 14,
    "start_time": "2021-08-05T20:20:16.852Z"
   },
   {
    "duration": 748,
    "start_time": "2021-08-05T20:20:16.920Z"
   },
   {
    "duration": 19,
    "start_time": "2021-08-05T20:20:17.670Z"
   },
   {
    "duration": 12,
    "start_time": "2021-08-05T20:20:17.696Z"
   },
   {
    "duration": 302,
    "start_time": "2021-08-05T20:20:17.710Z"
   },
   {
    "duration": 6,
    "start_time": "2021-08-05T20:20:18.014Z"
   },
   {
    "duration": 6,
    "start_time": "2021-08-05T20:20:18.021Z"
   },
   {
    "duration": 12,
    "start_time": "2021-08-05T20:20:18.028Z"
   },
   {
    "duration": 617,
    "start_time": "2021-08-05T20:20:18.198Z"
   },
   {
    "duration": 25048,
    "start_time": "2021-08-05T20:20:18.817Z"
   },
   {
    "duration": 712,
    "start_time": "2021-08-05T20:20:43.868Z"
   },
   {
    "duration": 233,
    "start_time": "2021-08-05T20:20:44.585Z"
   },
   {
    "duration": 313,
    "start_time": "2021-08-05T20:20:44.820Z"
   },
   {
    "duration": 315,
    "start_time": "2021-08-05T20:20:45.135Z"
   },
   {
    "duration": 14,
    "start_time": "2021-08-05T20:20:45.452Z"
   },
   {
    "duration": 1001,
    "start_time": "2021-08-05T20:20:45.469Z"
   },
   {
    "duration": 657,
    "start_time": "2021-08-05T20:20:46.472Z"
   },
   {
    "duration": 648,
    "start_time": "2021-08-05T20:20:47.130Z"
   },
   {
    "duration": 722,
    "start_time": "2021-08-05T20:20:47.779Z"
   },
   {
    "duration": 14,
    "start_time": "2021-08-05T20:20:48.503Z"
   },
   {
    "duration": 7,
    "start_time": "2021-08-05T20:20:48.519Z"
   },
   {
    "duration": 7,
    "start_time": "2021-08-05T20:20:48.527Z"
   },
   {
    "duration": 7,
    "start_time": "2021-08-05T20:20:48.535Z"
   },
   {
    "duration": 257,
    "start_time": "2021-08-05T20:20:48.544Z"
   },
   {
    "duration": 14,
    "start_time": "2021-08-05T20:20:48.803Z"
   },
   {
    "duration": 6,
    "start_time": "2021-08-05T20:20:48.819Z"
   },
   {
    "duration": 11,
    "start_time": "2021-08-05T20:20:48.827Z"
   },
   {
    "duration": 6,
    "start_time": "2021-08-05T20:20:48.840Z"
   },
   {
    "duration": 265,
    "start_time": "2021-08-05T20:20:48.848Z"
   },
   {
    "duration": 5,
    "start_time": "2021-08-05T20:20:49.115Z"
   },
   {
    "duration": 37,
    "start_time": "2021-08-05T20:20:49.123Z"
   },
   {
    "duration": 33,
    "start_time": "2021-08-05T20:20:49.162Z"
   },
   {
    "duration": 39,
    "start_time": "2021-08-05T20:20:49.196Z"
   },
   {
    "duration": 7,
    "start_time": "2021-08-05T20:20:49.237Z"
   },
   {
    "duration": 10,
    "start_time": "2021-08-05T20:20:49.245Z"
   }
  ],
  "kernelspec": {
   "display_name": "Python 3",
   "language": "python",
   "name": "python3"
  },
  "language_info": {
   "codemirror_mode": {
    "name": "ipython",
    "version": 3
   },
   "file_extension": ".py",
   "mimetype": "text/x-python",
   "name": "python",
   "nbconvert_exporter": "python",
   "pygments_lexer": "ipython3",
   "version": "3.7.8"
  },
  "toc": {
   "base_numbering": 1,
   "nav_menu": {},
   "number_sections": true,
   "sideBar": true,
   "skip_h1_title": false,
   "title_cell": "Table of Contents",
   "title_sidebar": "Contents",
   "toc_cell": false,
   "toc_position": {},
   "toc_section_display": true,
   "toc_window_display": false
  }
 },
 "nbformat": 4,
 "nbformat_minor": 2
}
